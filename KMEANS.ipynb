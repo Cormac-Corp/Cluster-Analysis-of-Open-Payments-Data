{
 "cells": [
  {
   "cell_type": "code",
   "execution_count": null,
   "metadata": {
    "collapsed": true
   },
   "outputs": [],
   "source": [
    "#Here I'm going to start working on different columns to use for KMeans algorithm\n",
    "from sklearn.preprocessing import Imputer\n",
    "from sklearn.linear_model import LogisticRegression\n",
    "from sklearn.model_selection import train_test_split\n",
    "from sklearn.metrics import accuracy_score\n",
    "from sklearn import preprocessing\n",
    "from sklearn.cluster import KMeans\n",
    "from sklearn import metrics\n",
    "from scipy.spatial.distance import cdist\n",
    "import numpy as np\n",
    "import matplotlib.pyplot as plt\n",
    "from sklearn.metrics import silhouette_samples, silhouette_score\n",
    "import time\n",
    "\n",
    "#Grab certain columns and do some pre-processing work before performing KMeans algorithm on the dataframe\n",
    "qf1 = pd.get_dummies(df['teaching_hospital_id'])\n",
    "qf2 = pd.get_dummies(df['amog_id'])\n",
    "qf3 = df['total_amount_of_payment_usdollars']\n",
    "qf3_min = qf3.min()\n",
    "qf3_max = qf3.max()\n",
    "\n",
    "qf3 -= qf3_min\n",
    "qf3 /= qf3_max\n",
    "\n",
    "frames = [qf1, qf2, qf3]\n",
    "X = pd.concat(frames, axis=1)\n",
    "\n",
    "df_info(X)"
   ]
  },
  {
   "cell_type": "code",
   "execution_count": null,
   "metadata": {
    "collapsed": true
   },
   "outputs": [],
   "source": [
    "#Create an \"elbow\" like graph based on different KMean clusters\n",
    "\n",
    "distortions = []\n",
    "K = range(2,50)\n",
    "\n",
    "for clusters in K:\n",
    "    start = time.time()\n",
    "    \n",
    "    k_means = KMeans(n_clusters=clusters)\n",
    "    k_means.fit(X)\n",
    "    \n",
    "    distortions.append( sum(np.min(cdist(X, k_means.cluster_centers_, 'euclidean'), axis=1)) / X.shape[0])  \n",
    "    \n",
    "    end = time.time()\n",
    "    print(\"Process took... \" + str(end-start) + \" seconds!\")\n",
    "\n",
    "# Plot the elbow\n",
    "plt.plot(K, distortions, 'bx-')\n",
    "plt.xlabel('k')\n",
    "plt.ylabel('Distortion')\n",
    "plt.title('The Elbow Method showing the optimal k')\n",
    "plt.show()    \n",
    "\n"
   ]
  },
  {
   "cell_type": "code",
   "execution_count": null,
   "metadata": {
    "collapsed": true
   },
   "outputs": [],
   "source": [
    "#Calculating how much time it takes to create N clusters\n",
    "start = time.time()\n",
    "\n",
    "num_clusters = 20\n",
    "\n",
    "k_means = KMeans(n_clusters=num_clusters)\n",
    "k_means.fit(X)\n",
    "end = time.time()\n",
    "\n",
    "cluster_count = [0] * num_clusters\n",
    "\n",
    "for row in k_means.labels_:\n",
    "    cluster_count[row]+=1\n",
    "    \n",
    "for ind,cluster in enumerate(cluster_count):\n",
    "    print(str(ind) + \" \" + str(cluster))\n",
    "    \n",
    "print(\"Process took... \" + str(end-start) + \" seconds!\")\n",
    "\n",
    "#Creating a new column in the dataframe with the results of the kmeans and importing that to a csv file.\n",
    "df['kmeans'] = k_means.labels_\n",
    "df.to_csv(\"all.csv\",index=False)"
   ]
  },
  {
   "cell_type": "code",
   "execution_count": null,
   "metadata": {
    "collapsed": true
   },
   "outputs": [],
   "source": [
    "from itertools import combinations\n",
    "import pandas as pd\n",
    "import numpy as np\n",
    "\n",
    "def apriori(trans, support=0.01, minlen=1):\n",
    "    ts=pd.get_dummies(trans.unstack().dropna()).groupby(level=1).sum()\n",
    "\n",
    "    collen, rowlen  =ts.shape\n",
    "\n",
    "    #-------------Max leng (not used)\n",
    "    #tssum=ts.sum(axis=1)\n",
    "    #maxlen=int(tssum.loc[tssum.idxmax()])\n",
    "\n",
    "\n",
    "    pattern = []\n",
    "    for cnum in range(minlen, rowlen+1):\n",
    "        for cols in combinations(ts, cnum):\n",
    "            patsup = ts[list(cols)].all(axis=1).sum()\n",
    "            patsup=float(patsup)/collen\n",
    "            pattern.append([\",\".join(cols), patsup])\n",
    "    sdf = pd.DataFrame(pattern, columns=[\"Pattern\", \"Support\"])\n",
    "    results=sdf[sdf.Support >= support]\n",
    "\n",
    "    return results"
   ]
  }
 ],
 "metadata": {
  "kernelspec": {
   "display_name": "Python 3",
   "language": "python",
   "name": "python3"
  },
  "language_info": {
   "codemirror_mode": {
    "name": "ipython",
    "version": 3
   },
   "file_extension": ".py",
   "mimetype": "text/x-python",
   "name": "python",
   "nbconvert_exporter": "python",
   "pygments_lexer": "ipython3",
   "version": "3.6.2"
  }
 },
 "nbformat": 4,
 "nbformat_minor": 2
}
